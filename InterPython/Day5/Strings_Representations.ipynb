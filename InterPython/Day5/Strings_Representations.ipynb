{
 "cells": [
  {
   "cell_type": "markdown",
   "metadata": {},
   "source": [
    "### Strings and Representations\n",
    "Discuss the differences between strings and representations. This will make our code easier to maintain, debug, and make human-friendly (readable)."
   ]
  },
  {
   "cell_type": "markdown",
   "metadata": {},
   "source": [
    "### Operator Overloading"
   ]
  },
  {
   "cell_type": "code",
   "execution_count": 1,
   "metadata": {},
   "outputs": [
    {
     "name": "stdout",
     "output_type": "stream",
     "text": [
      "3\n",
      "ab\n"
     ]
    }
   ],
   "source": [
    "print(1+2)\n",
    "print(\"a\" + \"b\")"
   ]
  },
  {
   "cell_type": "markdown",
   "metadata": {},
   "source": [
    "So, how is the behavior different between strings and integers?"
   ]
  },
  {
   "cell_type": "code",
   "execution_count": 2,
   "metadata": {
    "collapsed": true
   },
   "outputs": [],
   "source": [
    "class Employee: \n",
    "    num_of_emps = 0\n",
    "    raise_amount = 1.04\n",
    "    \n",
    "    def __init__(self, first, last, pay):\n",
    "        self.first=first\n",
    "        self.last = last\n",
    "        self.pay = pay\n",
    "        self.email = first + \".\" + last + \"@weber.edu\"\n",
    "        Employee.num_of_emps += 1\n",
    "        \n",
    "    def fullname(self):\n",
    "        return \"{} {}\".format(self.first, self.last)\n",
    "    \n",
    "    def apply_raise(self):\n",
    "        self.pay = int(self.pay * self.raise_amount)"
   ]
  },
  {
   "cell_type": "code",
   "execution_count": 3,
   "metadata": {},
   "outputs": [
    {
     "name": "stdout",
     "output_type": "stream",
     "text": [
      "<__main__.Employee object at 0x000002234C5A6860>\n"
     ]
    }
   ],
   "source": [
    "emp1 = Employee(\"Mario\", \"Garcia\", 50000)\n",
    "emp2 = Employee(\"John\", \"White\", 60000)\n",
    "print(emp1)"
   ]
  },
  {
   "cell_type": "code",
   "execution_count": 4,
   "metadata": {},
   "outputs": [
    {
     "name": "stdout",
     "output_type": "stream",
     "text": [
      "<class 'int'>\n"
     ]
    }
   ],
   "source": [
    "print(int)"
   ]
  },
  {
   "cell_type": "markdown",
   "metadata": {},
   "source": [
    "Define our own special method, we will be able to shape the behavior to our needs. Special methods are always with **dunder**<br>\n",
    "\n",
    "### Two common methods: \\_\\_repr\\_\\_ and \\_\\_str\\_\\_"
   ]
  },
  {
   "cell_type": "code",
   "execution_count": 5,
   "metadata": {},
   "outputs": [
    {
     "data": {
      "text/plain": [
       "\"<class 'int'>\""
      ]
     },
     "execution_count": 5,
     "metadata": {},
     "output_type": "execute_result"
    }
   ],
   "source": [
    "repr(int)"
   ]
  },
  {
   "cell_type": "code",
   "execution_count": 6,
   "metadata": {},
   "outputs": [
    {
     "data": {
      "text/plain": [
       "\"<class 'int'>\""
      ]
     },
     "execution_count": 6,
     "metadata": {},
     "output_type": "execute_result"
    }
   ],
   "source": [
    "str(int)"
   ]
  },
  {
   "cell_type": "markdown",
   "metadata": {},
   "source": [
    "### So what is the difference between str() and repr()?"
   ]
  },
  {
   "cell_type": "code",
   "execution_count": 7,
   "metadata": {},
   "outputs": [
    {
     "name": "stdout",
     "output_type": "stream",
     "text": [
      "[1, 2, 3, 4]\n",
      "[1, 2, 3, 4]\n",
      "Sample string\n",
      "'Sample string'\n"
     ]
    }
   ],
   "source": [
    "a = [1, 2, 3, 4]\n",
    "b = \"Sample string\"\n",
    "print(str(a))\n",
    "print(repr(a))\n",
    "\n",
    "print(str(b))\n",
    "print(repr(b))"
   ]
  },
  {
   "cell_type": "markdown",
   "metadata": {},
   "source": [
    "### The goal\n",
    "- The goal of \\_\\_repr\\_\\_ is to be unambiguous (more developers)\n",
    "- The goal of \\_\\_str\\_\\_ is to be readable (regular users)"
   ]
  },
  {
   "cell_type": "code",
   "execution_count": 9,
   "metadata": {},
   "outputs": [
    {
     "name": "stdout",
     "output_type": "stream",
     "text": [
      "2017-06-11 04:35:48.528551\n",
      "2017-06-11 04:35:48.528551\n",
      "datetime.datetime(2017, 6, 11, 4, 35, 48, 528551)\n",
      "'2017-06-11 04:35:48.528551'\n"
     ]
    }
   ],
   "source": [
    "import datetime\n",
    "a = datetime.datetime(2017, 6, 11, 4, 35, 48, 528551)\n",
    "b = \"2017-06-11 04:35:48.528551\"\n",
    "print(str(a))\n",
    "print(str(b))\n",
    "print(repr(a))\n",
    "print(repr(b))"
   ]
  },
  {
   "cell_type": "code",
   "execution_count": 10,
   "metadata": {
    "collapsed": true
   },
   "outputs": [],
   "source": [
    "class Employee: \n",
    "    num_of_emps = 0\n",
    "    raise_amount = 1.04\n",
    "    \n",
    "    def __init__(self, first, last, pay):\n",
    "        self.first=first\n",
    "        self.last = last\n",
    "        self.pay = pay\n",
    "        self.email = first + \".\" + last + \"@weber.edu\"\n",
    "        Employee.num_of_emps += 1\n",
    "        \n",
    "    def fullname(self):\n",
    "        return \"{} {}\".format(self.first, self.last)\n",
    "    \n",
    "    def apply_raise(self):\n",
    "        self.pay = int(self.pay * self.raise_amount)\n",
    "        \n",
    "    # Something you can copy/paste into REPL to recreate this object\n",
    "    def __repr__(self):\n",
    "        return \"Employee('{}', '{}', {})\".format(self.first, self.last, self.pay)"
   ]
  },
  {
   "cell_type": "code",
   "execution_count": 11,
   "metadata": {},
   "outputs": [
    {
     "name": "stdout",
     "output_type": "stream",
     "text": [
      "Employee('Mario', 'Garcia', 50000)\n"
     ]
    }
   ],
   "source": [
    "emp1 = Employee(\"Mario\", \"Garcia\", 50000)\n",
    "emp2 = Employee(\"John\", \"White\", 60000)\n",
    "print(emp1)"
   ]
  },
  {
   "cell_type": "markdown",
   "metadata": {},
   "source": [
    "Now it is more unambiguous and you know how to recreate this object.\n",
    "\n",
    "Now, create **str()**"
   ]
  },
  {
   "cell_type": "code",
   "execution_count": 12,
   "metadata": {
    "collapsed": true
   },
   "outputs": [],
   "source": [
    "class Employee: \n",
    "    num_of_emps = 0\n",
    "    raise_amount = 1.04\n",
    "    \n",
    "    def __init__(self, first, last, pay):\n",
    "        self.first=first\n",
    "        self.last = last\n",
    "        self.pay = pay\n",
    "        self.email = first + \".\" + last + \"@weber.edu\"\n",
    "        Employee.num_of_emps += 1\n",
    "        \n",
    "    def fullname(self):\n",
    "        return \"{} {}\".format(self.first, self.last)\n",
    "    \n",
    "    def apply_raise(self):\n",
    "        self.pay = int(self.pay * self.raise_amount)\n",
    "        \n",
    "    # Something you can copy/paste into REPL to recreate this object\n",
    "    def __repr__(self):\n",
    "        return \"Employee('{}', '{}', {})\".format(self.first, self.last, self.pay)\n",
    "    \n",
    "    def __str__(self):\n",
    "        return \"{}- {} \".format(self.fullname(), self.email)"
   ]
  },
  {
   "cell_type": "code",
   "execution_count": 16,
   "metadata": {},
   "outputs": [
    {
     "name": "stdout",
     "output_type": "stream",
     "text": [
      "Mario Garcia- Mario.Garcia@weber.edu \n",
      "Mario Garcia- Mario.Garcia@weber.edu \n",
      "Employee('Mario', 'Garcia', 50000)\n",
      "Employee('Mario', 'Garcia', 50000)\n"
     ]
    }
   ],
   "source": [
    "emp1 = Employee(\"Mario\", \"Garcia\", 50000)\n",
    "# By default, it calls str()\n",
    "# is is not available, it calls repr()\n",
    "print(emp1)\n",
    "print(emp1.__str__())\n",
    "print(emp1.__repr__())\n",
    "print(repr(emp1))"
   ]
  },
  {
   "cell_type": "markdown",
   "metadata": {},
   "source": [
    "**One more example**"
   ]
  },
  {
   "cell_type": "code",
   "execution_count": 39,
   "metadata": {
    "collapsed": true
   },
   "outputs": [],
   "source": [
    "class Point2D:\n",
    "    def __init__(self, x, y):\n",
    "        self.x = x\n",
    "        self.y = y\n",
    "\n",
    "    def __str__(self):\n",
    "        return '({} {})'.format(self.x, self.y)\n",
    "    \n",
    "    def __repr__(self):\n",
    "        return 'Point2D(x={}, y={})'.format(self.x, self.y)"
   ]
  },
  {
   "cell_type": "code",
   "execution_count": 28,
   "metadata": {},
   "outputs": [
    {
     "name": "stdout",
     "output_type": "stream",
     "text": [
      "(33 21)\n",
      "Point2D(x=33, y=21)\n",
      "(33 21)\n"
     ]
    },
    {
     "data": {
      "text/plain": [
       "'Point2D(x=33, y=21)'"
      ]
     },
     "execution_count": 28,
     "metadata": {},
     "output_type": "execute_result"
    }
   ],
   "source": [
    "# test it\n",
    "p= Point2D(x=33, y=21)\n",
    "print(str(p))\n",
    "print(repr(p))\n",
    "print(p)\n",
    "repr(p)"
   ]
  },
  {
   "cell_type": "code",
   "execution_count": 23,
   "metadata": {},
   "outputs": [
    {
     "name": "stdout",
     "output_type": "stream",
     "text": [
      "The circle is centered at (33 21)\n"
     ]
    }
   ],
   "source": [
    "# But it will help in this situation\n",
    "print(\"The circle is centered at {}\".format(p))"
   ]
  },
  {
   "cell_type": "code",
   "execution_count": 29,
   "metadata": {},
   "outputs": [
    {
     "name": "stdout",
     "output_type": "stream",
     "text": [
      "The circle is centered at Point2D(x=33, y=21)\n"
     ]
    }
   ],
   "source": [
    "# This is not very helpful\n",
    "print(\"The circle is centered at {}\".format(repr(p)))"
   ]
  },
  {
   "cell_type": "markdown",
   "metadata": {},
   "source": [
    "By default str() simply calls repr(). That is, if you do not define str(), then it will use repr() when str() is required.\n",
    "\n",
    "Python uses the **repr()** of an object when it prints part of a list, dict, or any other built-in type"
   ]
  },
  {
   "cell_type": "code",
   "execution_count": 31,
   "metadata": {},
   "outputs": [
    {
     "data": {
      "text/plain": [
       "'[Point2D(x=0, y=0), Point2D(x=1, y=1), Point2D(x=2, y=2)]'"
      ]
     },
     "execution_count": 31,
     "metadata": {},
     "output_type": "execute_result"
    }
   ],
   "source": [
    "l=[Point2D(x=0, y=0), Point2D(x=1,y=1), Point2D(x=2, y=2)]\n",
    "str(l)\n"
   ]
  },
  {
   "cell_type": "code",
   "execution_count": 32,
   "metadata": {},
   "outputs": [
    {
     "data": {
      "text/plain": [
       "'[Point2D(x=0, y=0), Point2D(x=1, y=1), Point2D(x=2, y=2)]'"
      ]
     },
     "execution_count": 32,
     "metadata": {},
     "output_type": "execute_result"
    }
   ],
   "source": [
    "repr(l)"
   ]
  },
  {
   "cell_type": "code",
   "execution_count": 34,
   "metadata": {},
   "outputs": [
    {
     "data": {
      "text/plain": [
       "'[Point2D(x=0, y=0), Point2D(x=1, y=2), Point2D(x=2, y=4)]'"
      ]
     },
     "execution_count": 34,
     "metadata": {},
     "output_type": "execute_result"
    }
   ],
   "source": [
    "l=[Point2D(i, i*2) for i in range(3)]\n",
    "str(l)"
   ]
  },
  {
   "cell_type": "code",
   "execution_count": 36,
   "metadata": {},
   "outputs": [
    {
     "data": {
      "text/plain": [
       "'{0: Point2D(x=0, y=0), 1: Point2D(x=1, y=2), 2: Point2D(x=2, y=4)}'"
      ]
     },
     "execution_count": 36,
     "metadata": {},
     "output_type": "execute_result"
    }
   ],
   "source": [
    "# A dictionary\n",
    "l= {i: Point2D(i, i*2) for i in range(3)}\n",
    "str(l)"
   ]
  },
  {
   "cell_type": "markdown",
   "metadata": {},
   "source": [
    "### The special \\_\\_format\\_\\_() format\n",
    "Invoked by str.format()"
   ]
  },
  {
   "cell_type": "code",
   "execution_count": 42,
   "metadata": {
    "collapsed": true
   },
   "outputs": [],
   "source": [
    "class Point2D:\n",
    "    def __init__(self, x, y):\n",
    "        self.x = x\n",
    "        self.y = y\n",
    "\n",
    "    def __str__(self):\n",
    "        return '({} {})'.format(self.x, self.y)\n",
    "    \n",
    "    def __repr__(self):\n",
    "        return 'Point2D(x={}, y={})'.format(self.x, self.y)\n",
    "    \n",
    "    def __format__(self, f):\n",
    "        return \"Formatted point: {}, {}\".format(self.x, self.y)"
   ]
  },
  {
   "cell_type": "code",
   "execution_count": 43,
   "metadata": {},
   "outputs": [
    {
     "data": {
      "text/plain": [
       "'This is a point Formatted point: 2, 3'"
      ]
     },
     "execution_count": 43,
     "metadata": {},
     "output_type": "execute_result"
    }
   ],
   "source": [
    "# Test it\n",
    "\"This is a point {}\".format(Point2D(2, 3))"
   ]
  },
  {
   "cell_type": "markdown",
   "metadata": {},
   "source": [
    "What is format()? \n",
    "Anything passed to the **f**<br>\n",
    "Replacement fields:\n",
    "- {filed_name: format_spec}\n",
    "- Optional **format specification** after the colon"
   ]
  },
  {
   "cell_type": "code",
   "execution_count": 45,
   "metadata": {},
   "outputs": [],
   "source": [
    "class Point2D:\n",
    "    def __init__(self, x, y):\n",
    "        self.x = x\n",
    "        self.y = y\n",
    "\n",
    "    def __str__(self):\n",
    "        return '({} {})'.format(self.x, self.y)\n",
    "    \n",
    "    def __repr__(self):\n",
    "        return 'Point2D(x={}, y={})'.format(self.x, self.y)\n",
    "    \n",
    "    def __format__(self, f):\n",
    "        if f == 'r':\n",
    "            return \"{}, {}\".format(self.x, self.y)\n",
    "        else:\n",
    "            return \"{}, {}\".format(self.y, self.x)"
   ]
  },
  {
   "cell_type": "code",
   "execution_count": 47,
   "metadata": {},
   "outputs": [
    {
     "data": {
      "text/plain": [
       "'8, 2'"
      ]
     },
     "execution_count": 47,
     "metadata": {},
     "output_type": "execute_result"
    }
   ],
   "source": [
    "\"{}\".format(Point2D(2,8))"
   ]
  },
  {
   "cell_type": "code",
   "execution_count": 48,
   "metadata": {},
   "outputs": [
    {
     "data": {
      "text/plain": [
       "'2, 8'"
      ]
     },
     "execution_count": 48,
     "metadata": {},
     "output_type": "execute_result"
    }
   ],
   "source": [
    "\"{:r}\".format(Point2D(2,8))"
   ]
  },
  {
   "cell_type": "markdown",
   "metadata": {},
   "source": [
    "The default **dunder format** just calls **dunder str**"
   ]
  },
  {
   "cell_type": "markdown",
   "metadata": {},
   "source": [
    "### The reprlib\n",
    "The standard library module **reprlib** supports alternative implementations of **repr()**\n",
    "- Limits otherwise excessive string length \n",
    "- Useful for large collections"
   ]
  },
  {
   "cell_type": "code",
   "execution_count": 50,
   "metadata": {},
   "outputs": [
    {
     "name": "stdout",
     "output_type": "stream",
     "text": [
      "1000000\n"
     ]
    },
    {
     "data": {
      "text/plain": [
       "'[Point2D(x=0, y=0), Point2D(x=0, y=1), Point2D(x=0, y=2), Point2D(x=0, y=3), Point2D(x=0, y=4), Point2D(x=0, y=5), ...]'"
      ]
     },
     "execution_count": 50,
     "metadata": {},
     "output_type": "execute_result"
    }
   ],
   "source": [
    "import reprlib\n",
    "points = [Point2D(x,y) for x in range(1000) for y in range(1000)]\n",
    "print(len(points))\n",
    "reprlib.repr(points)"
   ]
  },
  {
   "cell_type": "markdown",
   "metadata": {},
   "source": [
    "## ascii(), ord(), chr()\n",
    "ascii()"
   ]
  },
  {
   "cell_type": "code",
   "execution_count": 51,
   "metadata": {},
   "outputs": [
    {
     "name": "stdout",
     "output_type": "stream",
     "text": [
      "Help on built-in function ascii in module builtins:\n",
      "\n",
      "ascii(obj, /)\n",
      "    Return an ASCII-only representation of an object.\n",
      "    \n",
      "    As repr(), return a string containing a printable representation of an\n",
      "    object, but escape the non-ASCII characters in the string returned by\n",
      "    repr() using \\\\x, \\\\u or \\\\U escapes. This generates a string similar\n",
      "    to that returned by repr() in Python 2.\n",
      "\n"
     ]
    }
   ],
   "source": [
    "help(ascii)"
   ]
  },
  {
   "cell_type": "code",
   "execution_count": 52,
   "metadata": {},
   "outputs": [
    {
     "data": {
      "text/plain": [
       "str"
      ]
     },
     "execution_count": 52,
     "metadata": {},
     "output_type": "execute_result"
    }
   ],
   "source": [
    "x = \"Moño\" # Alt + 164\n",
    "type(x)"
   ]
  },
  {
   "cell_type": "code",
   "execution_count": 53,
   "metadata": {},
   "outputs": [
    {
     "name": "stdout",
     "output_type": "stream",
     "text": [
      "'Mo\\xf1o'\n"
     ]
    }
   ],
   "source": [
    "y= ascii(x)\n",
    "print(y)"
   ]
  },
  {
   "cell_type": "markdown",
   "metadata": {},
   "source": [
    "### ord()\n",
    "Converts a single character to its **integer** Unicode codepoint."
   ]
  },
  {
   "cell_type": "code",
   "execution_count": 54,
   "metadata": {},
   "outputs": [
    {
     "name": "stdout",
     "output_type": "stream",
     "text": [
      "Help on built-in function ord in module builtins:\n",
      "\n",
      "ord(c, /)\n",
      "    Return the Unicode code point for a one-character string.\n",
      "\n"
     ]
    }
   ],
   "source": [
    "help(ord)"
   ]
  },
  {
   "cell_type": "code",
   "execution_count": 55,
   "metadata": {},
   "outputs": [
    {
     "data": {
      "text/plain": [
       "190"
      ]
     },
     "execution_count": 55,
     "metadata": {},
     "output_type": "execute_result"
    }
   ],
   "source": [
    "x=\"¾\" # Alt 0190 \n",
    "ord(x)"
   ]
  },
  {
   "cell_type": "markdown",
   "metadata": {},
   "source": [
    "### chr()\n",
    "Converts aninteger Unicode codepoint to a single character string"
   ]
  },
  {
   "cell_type": "code",
   "execution_count": 56,
   "metadata": {},
   "outputs": [
    {
     "data": {
      "text/plain": [
       "'¾'"
      ]
     },
     "execution_count": 56,
     "metadata": {},
     "output_type": "execute_result"
    }
   ],
   "source": [
    "chr(190)"
   ]
  },
  {
   "cell_type": "code",
   "execution_count": 59,
   "metadata": {},
   "outputs": [
    {
     "name": "stdout",
     "output_type": "stream",
     "text": [
      "Alt + 150 = \n",
      "Alt + 151 = \n",
      "Alt + 152 = \n",
      "Alt + 153 = \n",
      "Alt + 154 = \n",
      "Alt + 155 = \n",
      "Alt + 156 = \n",
      "Alt + 157 = \n",
      "Alt + 158 = \n",
      "Alt + 159 = \n",
      "Alt + 160 =  \n",
      "Alt + 161 = ¡\n",
      "Alt + 162 = ¢\n",
      "Alt + 163 = £\n",
      "Alt + 164 = ¤\n",
      "Alt + 165 = ¥\n",
      "Alt + 166 = ¦\n",
      "Alt + 167 = §\n",
      "Alt + 168 = ¨\n",
      "Alt + 169 = ©\n",
      "Alt + 170 = ª\n",
      "Alt + 171 = «\n",
      "Alt + 172 = ¬\n",
      "Alt + 173 = ­\n",
      "Alt + 174 = ®\n",
      "Alt + 175 = ¯\n",
      "Alt + 176 = °\n",
      "Alt + 177 = ±\n",
      "Alt + 178 = ²\n",
      "Alt + 179 = ³\n",
      "Alt + 180 = ´\n",
      "Alt + 181 = µ\n",
      "Alt + 182 = ¶\n",
      "Alt + 183 = ·\n",
      "Alt + 184 = ¸\n",
      "Alt + 185 = ¹\n",
      "Alt + 186 = º\n",
      "Alt + 187 = »\n",
      "Alt + 188 = ¼\n",
      "Alt + 189 = ½\n",
      "Alt + 190 = ¾\n",
      "Alt + 191 = ¿\n",
      "Alt + 192 = À\n",
      "Alt + 193 = Á\n",
      "Alt + 194 = Â\n",
      "Alt + 195 = Ã\n",
      "Alt + 196 = Ä\n",
      "Alt + 197 = Å\n",
      "Alt + 198 = Æ\n",
      "Alt + 199 = Ç\n"
     ]
    }
   ],
   "source": [
    "for i in range(150, 200):\n",
    "    print(\"Alt +\", i, \"=\", chr(i))"
   ]
  },
  {
   "cell_type": "code",
   "execution_count": null,
   "metadata": {
    "collapsed": true
   },
   "outputs": [],
   "source": []
  }
 ],
 "metadata": {
  "kernelspec": {
   "display_name": "Python 3",
   "language": "python",
   "name": "python3"
  },
  "language_info": {
   "codemirror_mode": {
    "name": "ipython",
    "version": 3
   },
   "file_extension": ".py",
   "mimetype": "text/x-python",
   "name": "python",
   "nbconvert_exporter": "python",
   "pygments_lexer": "ipython3",
   "version": "3.5.1"
  }
 },
 "nbformat": 4,
 "nbformat_minor": 2
}
